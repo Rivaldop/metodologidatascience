{
  "nbformat": 4,
  "nbformat_minor": 0,
  "metadata": {
    "colab": {
      "name": "Pertemuan 10.ipynb",
      "provenance": [],
      "collapsed_sections": [],
      "authorship_tag": "ABX9TyOV51PydtzcwJ1LPYdhPUw6",
      "include_colab_link": true
    },
    "kernelspec": {
      "name": "python3",
      "display_name": "Python 3"
    },
    "language_info": {
      "name": "python"
    }
  },
  "cells": [
    {
      "cell_type": "markdown",
      "metadata": {
        "id": "view-in-github",
        "colab_type": "text"
      },
      "source": [
        "<a href=\"https://colab.research.google.com/github/Rivaldop/metodologidatascience/blob/main/Pertemuan_10.ipynb\" target=\"_parent\"><img src=\"https://colab.research.google.com/assets/colab-badge.svg\" alt=\"Open In Colab\"/></a>"
      ]
    },
    {
      "cell_type": "markdown",
      "source": [
        "1. DATASET "
      ],
      "metadata": {
        "id": "x88FvpokX-dc"
      }
    },
    {
      "cell_type": "code",
      "source": [
        "from sklearn import datasets\n",
        "iris = datasets.load_iris()\n",
        "x = iris.data\n",
        "y = iris.target"
      ],
      "metadata": {
        "id": "_JPZG7peYCzZ"
      },
      "execution_count": 2,
      "outputs": []
    },
    {
      "cell_type": "code",
      "source": [
        "print(\"Banyaknya data: \",len(x))"
      ],
      "metadata": {
        "id": "e_1kzKF-Y4ZZ",
        "colab": {
          "base_uri": "https://localhost:8080/"
        },
        "outputId": "8ae8e267-0110-4714-db32-d1106a980dbe"
      },
      "execution_count": 3,
      "outputs": [
        {
          "output_type": "stream",
          "name": "stdout",
          "text": [
            "Banyaknya data:  150\n"
          ]
        }
      ]
    },
    {
      "cell_type": "code",
      "source": [
        "print(\"15 data pertama: \")\n",
        "print(x[:15])"
      ],
      "metadata": {
        "id": "WNgzzw0MZLcp",
        "colab": {
          "base_uri": "https://localhost:8080/"
        },
        "outputId": "fd500cf0-cf34-4a0a-88f8-39c1e91a1907"
      },
      "execution_count": 5,
      "outputs": [
        {
          "output_type": "stream",
          "name": "stdout",
          "text": [
            "15 data pertama: \n",
            "[[5.1 3.5 1.4 0.2]\n",
            " [4.9 3.  1.4 0.2]\n",
            " [4.7 3.2 1.3 0.2]\n",
            " [4.6 3.1 1.5 0.2]\n",
            " [5.  3.6 1.4 0.2]\n",
            " [5.4 3.9 1.7 0.4]\n",
            " [4.6 3.4 1.4 0.3]\n",
            " [5.  3.4 1.5 0.2]\n",
            " [4.4 2.9 1.4 0.2]\n",
            " [4.9 3.1 1.5 0.1]\n",
            " [5.4 3.7 1.5 0.2]\n",
            " [4.8 3.4 1.6 0.2]\n",
            " [4.8 3.  1.4 0.1]\n",
            " [4.3 3.  1.1 0.1]\n",
            " [5.8 4.  1.2 0.2]]\n"
          ]
        }
      ]
    },
    {
      "cell_type": "markdown",
      "source": [
        "2. SPLIT DATA"
      ],
      "metadata": {
        "id": "c0r-zSRTZZmd"
      }
    },
    {
      "cell_type": "code",
      "source": [
        "from sklearn.model_selection import train_test_split\n",
        "x_train, x_test, y_train, y_test = train_test_split(x, y, train_size = 0.7)"
      ],
      "metadata": {
        "id": "f-S9moH1ZbP8"
      },
      "execution_count": 7,
      "outputs": []
    },
    {
      "cell_type": "markdown",
      "source": [
        "K-fold"
      ],
      "metadata": {
        "id": "Za0OGFj9aq6c"
      }
    },
    {
      "cell_type": "code",
      "source": [
        "from sklearn.model_selection import cross_val_score\n",
        "from sklearn.svm import SVC \n",
        "\n",
        "model = SVC(kernel='linear', C=1)\n",
        "scores = cross_val_score(model, x, y, cv = 5)\n",
        "\n",
        "print(\"Akurasi SVN untuk setiap fold: \", scores)\n",
        "print(\"Akurasi SVN dengan 5-fold: \", scores.mean())"
      ],
      "metadata": {
        "id": "HdxmFkBcatFC",
        "colab": {
          "base_uri": "https://localhost:8080/"
        },
        "outputId": "cab5a62a-bc84-405e-8432-d264966d742d"
      },
      "execution_count": 9,
      "outputs": [
        {
          "output_type": "stream",
          "name": "stdout",
          "text": [
            "Akurasi SVN untuk setiap fold:  [0.96666667 1.         0.96666667 0.96666667 1.        ]\n",
            "Akurasi SVN dengan 5-fold:  0.9800000000000001\n"
          ]
        }
      ]
    },
    {
      "cell_type": "markdown",
      "source": [
        "UJI COBA MODEL KLASIFIKASI"
      ],
      "metadata": {
        "id": "ffNwJm46baX7"
      }
    },
    {
      "cell_type": "markdown",
      "source": [
        " 1. KNN"
      ],
      "metadata": {
        "id": "cg5zRxsYbfBr"
      }
    },
    {
      "cell_type": "code",
      "source": [
        "from sklearn.neighbors import KNeighborsClassifier\n",
        "from sklearn import metrics\n",
        "\n",
        "knn = KNeighborsClassifier()\n",
        "knn.fit(x_train, y_train)\n",
        "y_pred = knn.predict(x_test)\n",
        "score = metrics.accuracy_score(y_test, y_pred)\n",
        "print(\"Akurasi model KNN sebesar: \", score)"
      ],
      "metadata": {
        "id": "V5EzricGbhBo",
        "colab": {
          "base_uri": "https://localhost:8080/"
        },
        "outputId": "c6d7fd6b-4246-40c5-b3ec-c66b52fd56db"
      },
      "execution_count": 12,
      "outputs": [
        {
          "output_type": "stream",
          "name": "stdout",
          "text": [
            "Akurasi model KNN sebesar:  0.9777777777777777\n"
          ]
        }
      ]
    },
    {
      "cell_type": "markdown",
      "source": [
        "2. D-tree"
      ],
      "metadata": {
        "id": "pF4Q1zD7dWTX"
      }
    },
    {
      "cell_type": "code",
      "source": [
        "from sklearn.tree import DecisionTreeClassifier\n",
        "from sklearn import metrics\n",
        "\n",
        "dt = DecisionTreeClassifier(max_depth= None, min_samples_split = 2)\n",
        "dt.fit(x_train, y_train)\n",
        "y_pred = dt.predict(x_test)\n",
        "score = metrics.accuracy_score(y_test, y_pred)\n",
        "print(\"Akurasi model D-Tree sebesar: \", score)"
      ],
      "metadata": {
        "id": "gD2Trf2hdYBu",
        "colab": {
          "base_uri": "https://localhost:8080/"
        },
        "outputId": "cf3d9fd5-d9cf-4243-ce9c-226abfd39d22"
      },
      "execution_count": 14,
      "outputs": [
        {
          "output_type": "stream",
          "name": "stdout",
          "text": [
            "Akurasi model D-Tree sebesar:  0.9333333333333333\n"
          ]
        }
      ]
    },
    {
      "cell_type": "markdown",
      "source": [
        "3. SVM"
      ],
      "metadata": {
        "id": "yG7O4ENxeqiH"
      }
    },
    {
      "cell_type": "code",
      "source": [
        "from sklearn.svm import SVC\n",
        "from sklearn import metrics\n",
        "\n",
        "svm = SVC(kernel='rbf', C = 1, gamma = 0.01)\n",
        "svm.fit(x_train, y_train)\n",
        "y_pred = svm.predict(x_test)\n",
        "score = metrics.accuracy_score(y_test, y_pred)\n",
        "print(\"Akurasi model SVM sebesar: \", score)"
      ],
      "metadata": {
        "id": "AzwYHz_pfF0T",
        "colab": {
          "base_uri": "https://localhost:8080/"
        },
        "outputId": "40870904-18fe-4388-a832-1b57a8778718"
      },
      "execution_count": 15,
      "outputs": [
        {
          "output_type": "stream",
          "name": "stdout",
          "text": [
            "Akurasi model SVM sebesar:  0.9555555555555556\n"
          ]
        }
      ]
    },
    {
      "cell_type": "code",
      "source": [
        "svmLinear = SVC(kernel='linear', C = 1)\n",
        "svmLinear.fit(x_train, y_train)\n",
        "y_pred = svmLinear.predict(x_test)\n",
        "score = metrics.accuracy_score(y_test, y_pred)\n",
        "print(\"Akurasi model SVM-Linear sebesar: \", score)"
      ],
      "metadata": {
        "id": "4fmwkWwbgfS1",
        "colab": {
          "base_uri": "https://localhost:8080/"
        },
        "outputId": "1e225b59-ae54-4226-ac3e-c5ed61b0d6cf"
      },
      "execution_count": 18,
      "outputs": [
        {
          "output_type": "stream",
          "name": "stdout",
          "text": [
            "Akurasi model SVM-Linear sebesar:  0.9777777777777777\n"
          ]
        }
      ]
    },
    {
      "cell_type": "markdown",
      "source": [
        "4. Logistic Regresion"
      ],
      "metadata": {
        "id": "jb-vESzrhOVy"
      }
    },
    {
      "cell_type": "code",
      "source": [
        "from sklearn.linear_model import LogisticRegression\n",
        "from sklearn import metrics\n",
        "\n",
        "lr = LogisticRegression()\n",
        "lr.fit(x_train, y_train)\n",
        "y_pred = lr.predict(x_test)\n",
        "score = metrics.accuracy_score(y_test, y_pred)\n",
        "print(\"Akurasi model LogisticRegression sebesar: \", score)"
      ],
      "metadata": {
        "id": "ky4gEGBmhTul",
        "colab": {
          "base_uri": "https://localhost:8080/"
        },
        "outputId": "5ea8453f-f239-42c7-adb4-884b07209ea7"
      },
      "execution_count": 20,
      "outputs": [
        {
          "output_type": "stream",
          "name": "stdout",
          "text": [
            "Akurasi model LogisticRegression sebesar:  1.0\n"
          ]
        },
        {
          "output_type": "stream",
          "name": "stderr",
          "text": [
            "/usr/local/lib/python3.7/dist-packages/sklearn/linear_model/_logistic.py:818: ConvergenceWarning: lbfgs failed to converge (status=1):\n",
            "STOP: TOTAL NO. of ITERATIONS REACHED LIMIT.\n",
            "\n",
            "Increase the number of iterations (max_iter) or scale the data as shown in:\n",
            "    https://scikit-learn.org/stable/modules/preprocessing.html\n",
            "Please also refer to the documentation for alternative solver options:\n",
            "    https://scikit-learn.org/stable/modules/linear_model.html#logistic-regression\n",
            "  extra_warning_msg=_LOGISTIC_SOLVER_CONVERGENCE_MSG,\n"
          ]
        }
      ]
    },
    {
      "cell_type": "markdown",
      "source": [
        "5. Naive Bayes"
      ],
      "metadata": {
        "id": "YBfJW_pBiSP_"
      }
    },
    {
      "cell_type": "code",
      "source": [
        "from sklearn.naive_bayes import BernoulliNB\n",
        "from sklearn import metrics\n",
        "\n",
        "nb = BernoulliNB()\n",
        "nb.fit(x_train, y_train)\n",
        "y_pred = nb.predict(x_test)\n",
        "score = metrics.accuracy_score(y_test, y_pred)\n",
        "print(\"Akurasi model Naive Bayes sebesar: \", score)"
      ],
      "metadata": {
        "id": "rnXWG17TiaPv",
        "colab": {
          "base_uri": "https://localhost:8080/"
        },
        "outputId": "8944cf4b-4338-43c6-9c1a-d7658dc56ea3"
      },
      "execution_count": 23,
      "outputs": [
        {
          "output_type": "stream",
          "name": "stdout",
          "text": [
            "Akurasi model Naive Bayes sebesar:  0.24444444444444444\n"
          ]
        }
      ]
    }
  ]
}