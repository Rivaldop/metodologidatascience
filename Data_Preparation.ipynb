{
  "nbformat": 4,
  "nbformat_minor": 0,
  "metadata": {
    "colab": {
      "name": "Data Preparation.ipynb",
      "provenance": [],
      "authorship_tag": "ABX9TyMqtEGyeTlOkX5pQIkq0IG0",
      "include_colab_link": true
    },
    "kernelspec": {
      "name": "python3",
      "display_name": "Python 3"
    },
    "language_info": {
      "name": "python"
    }
  },
  "cells": [
    {
      "cell_type": "markdown",
      "metadata": {
        "id": "view-in-github",
        "colab_type": "text"
      },
      "source": [
        "<a href=\"https://colab.research.google.com/github/Rivaldop/metodologidatascience/blob/main/Data_Preparation.ipynb\" target=\"_parent\"><img src=\"https://colab.research.google.com/assets/colab-badge.svg\" alt=\"Open In Colab\"/></a>"
      ]
    },
    {
      "cell_type": "markdown",
      "source": [
        "### DATA PREPARATION"
      ],
      "metadata": {
        "id": "n8N8VOQvKuRJ"
      }
    },
    {
      "cell_type": "markdown",
      "source": [
        "Unduh Data : https://github.com/realpython/python-data-cleaning/blob/master/Datasets/BL-Flickr-Images-Book.csv"
      ],
      "metadata": {
        "id": "aEh0XhTrK2FF"
      }
    },
    {
      "cell_type": "markdown",
      "source": [
        "1. import library yang dibutuhkan "
      ],
      "metadata": {
        "id": "umbGfOQqLCSH"
      }
    },
    {
      "cell_type": "code",
      "source": [
        "import pandas as pd\n"
      ],
      "metadata": {
        "id": "G0AlbI7KNJHf"
      },
      "execution_count": 3,
      "outputs": []
    },
    {
      "cell_type": "code",
      "source": [
        "import numpy as np"
      ],
      "metadata": {
        "id": "4K499L-ZNXAD"
      },
      "execution_count": 4,
      "outputs": []
    },
    {
      "cell_type": "code",
      "source": [
        "df = pd.read_csv('BL-Flickr-Images-Book.csv')\n",
        "data.head()"
      ],
      "metadata": {
        "colab": {
          "base_uri": "https://localhost:8080/",
          "height": 565
        },
        "id": "HLUSWGfaK0dx",
        "outputId": "d8837c1e-a02e-4441-d4b0-d804d1d6d504"
      },
      "execution_count": 11,
      "outputs": [
        {
          "output_type": "execute_result",
          "data": {
            "text/html": [
              "\n",
              "  <div id=\"df-1ca15c64-3960-4711-85d1-a2c307ac71a8\">\n",
              "    <div class=\"colab-df-container\">\n",
              "      <div>\n",
              "<style scoped>\n",
              "    .dataframe tbody tr th:only-of-type {\n",
              "        vertical-align: middle;\n",
              "    }\n",
              "\n",
              "    .dataframe tbody tr th {\n",
              "        vertical-align: top;\n",
              "    }\n",
              "\n",
              "    .dataframe thead th {\n",
              "        text-align: right;\n",
              "    }\n",
              "</style>\n",
              "<table border=\"1\" class=\"dataframe\">\n",
              "  <thead>\n",
              "    <tr style=\"text-align: right;\">\n",
              "      <th></th>\n",
              "      <th>Identifier</th>\n",
              "      <th>Edition Statement</th>\n",
              "      <th>Place of Publication</th>\n",
              "      <th>Date of Publication</th>\n",
              "      <th>Publisher</th>\n",
              "      <th>Title</th>\n",
              "      <th>Author</th>\n",
              "      <th>Contributors</th>\n",
              "      <th>Corporate Author</th>\n",
              "      <th>Corporate Contributors</th>\n",
              "      <th>Former owner</th>\n",
              "      <th>Engraver</th>\n",
              "      <th>Issuance type</th>\n",
              "      <th>Flickr URL</th>\n",
              "      <th>Shelfmarks</th>\n",
              "    </tr>\n",
              "  </thead>\n",
              "  <tbody>\n",
              "    <tr>\n",
              "      <th>0</th>\n",
              "      <td>206</td>\n",
              "      <td>NaN</td>\n",
              "      <td>London</td>\n",
              "      <td>1879 [1878]</td>\n",
              "      <td>S. Tinsley &amp; Co.</td>\n",
              "      <td>Walter Forbes. [A novel.] By A. A</td>\n",
              "      <td>A. A.</td>\n",
              "      <td>FORBES, Walter.</td>\n",
              "      <td>NaN</td>\n",
              "      <td>NaN</td>\n",
              "      <td>NaN</td>\n",
              "      <td>NaN</td>\n",
              "      <td>monographic</td>\n",
              "      <td>http://www.flickr.com/photos/britishlibrary/ta...</td>\n",
              "      <td>British Library HMNTS 12641.b.30.</td>\n",
              "    </tr>\n",
              "    <tr>\n",
              "      <th>1</th>\n",
              "      <td>216</td>\n",
              "      <td>NaN</td>\n",
              "      <td>London; Virtue &amp; Yorston</td>\n",
              "      <td>1868</td>\n",
              "      <td>Virtue &amp; Co.</td>\n",
              "      <td>All for Greed. [A novel. The dedication signed...</td>\n",
              "      <td>A., A. A.</td>\n",
              "      <td>BLAZE DE BURY, Marie Pauline Rose - Baroness</td>\n",
              "      <td>NaN</td>\n",
              "      <td>NaN</td>\n",
              "      <td>NaN</td>\n",
              "      <td>NaN</td>\n",
              "      <td>monographic</td>\n",
              "      <td>http://www.flickr.com/photos/britishlibrary/ta...</td>\n",
              "      <td>British Library HMNTS 12626.cc.2.</td>\n",
              "    </tr>\n",
              "    <tr>\n",
              "      <th>2</th>\n",
              "      <td>218</td>\n",
              "      <td>NaN</td>\n",
              "      <td>London</td>\n",
              "      <td>1869</td>\n",
              "      <td>Bradbury, Evans &amp; Co.</td>\n",
              "      <td>Love the Avenger. By the author of “All for Gr...</td>\n",
              "      <td>A., A. A.</td>\n",
              "      <td>BLAZE DE BURY, Marie Pauline Rose - Baroness</td>\n",
              "      <td>NaN</td>\n",
              "      <td>NaN</td>\n",
              "      <td>NaN</td>\n",
              "      <td>NaN</td>\n",
              "      <td>monographic</td>\n",
              "      <td>http://www.flickr.com/photos/britishlibrary/ta...</td>\n",
              "      <td>British Library HMNTS 12625.dd.1.</td>\n",
              "    </tr>\n",
              "    <tr>\n",
              "      <th>3</th>\n",
              "      <td>472</td>\n",
              "      <td>NaN</td>\n",
              "      <td>London</td>\n",
              "      <td>1851</td>\n",
              "      <td>James Darling</td>\n",
              "      <td>Welsh Sketches, chiefly ecclesiastical, to the...</td>\n",
              "      <td>A., E. S.</td>\n",
              "      <td>Appleyard, Ernest Silvanus.</td>\n",
              "      <td>NaN</td>\n",
              "      <td>NaN</td>\n",
              "      <td>NaN</td>\n",
              "      <td>NaN</td>\n",
              "      <td>monographic</td>\n",
              "      <td>http://www.flickr.com/photos/britishlibrary/ta...</td>\n",
              "      <td>British Library HMNTS 10369.bbb.15.</td>\n",
              "    </tr>\n",
              "    <tr>\n",
              "      <th>4</th>\n",
              "      <td>480</td>\n",
              "      <td>A new edition, revised, etc.</td>\n",
              "      <td>London</td>\n",
              "      <td>1857</td>\n",
              "      <td>Wertheim &amp; Macintosh</td>\n",
              "      <td>[The World in which I live, and my place in it...</td>\n",
              "      <td>A., E. S.</td>\n",
              "      <td>BROOME, John Henry.</td>\n",
              "      <td>NaN</td>\n",
              "      <td>NaN</td>\n",
              "      <td>NaN</td>\n",
              "      <td>NaN</td>\n",
              "      <td>monographic</td>\n",
              "      <td>http://www.flickr.com/photos/britishlibrary/ta...</td>\n",
              "      <td>British Library HMNTS 9007.d.28.</td>\n",
              "    </tr>\n",
              "  </tbody>\n",
              "</table>\n",
              "</div>\n",
              "      <button class=\"colab-df-convert\" onclick=\"convertToInteractive('df-1ca15c64-3960-4711-85d1-a2c307ac71a8')\"\n",
              "              title=\"Convert this dataframe to an interactive table.\"\n",
              "              style=\"display:none;\">\n",
              "        \n",
              "  <svg xmlns=\"http://www.w3.org/2000/svg\" height=\"24px\"viewBox=\"0 0 24 24\"\n",
              "       width=\"24px\">\n",
              "    <path d=\"M0 0h24v24H0V0z\" fill=\"none\"/>\n",
              "    <path d=\"M18.56 5.44l.94 2.06.94-2.06 2.06-.94-2.06-.94-.94-2.06-.94 2.06-2.06.94zm-11 1L8.5 8.5l.94-2.06 2.06-.94-2.06-.94L8.5 2.5l-.94 2.06-2.06.94zm10 10l.94 2.06.94-2.06 2.06-.94-2.06-.94-.94-2.06-.94 2.06-2.06.94z\"/><path d=\"M17.41 7.96l-1.37-1.37c-.4-.4-.92-.59-1.43-.59-.52 0-1.04.2-1.43.59L10.3 9.45l-7.72 7.72c-.78.78-.78 2.05 0 2.83L4 21.41c.39.39.9.59 1.41.59.51 0 1.02-.2 1.41-.59l7.78-7.78 2.81-2.81c.8-.78.8-2.07 0-2.86zM5.41 20L4 18.59l7.72-7.72 1.47 1.35L5.41 20z\"/>\n",
              "  </svg>\n",
              "      </button>\n",
              "      \n",
              "  <style>\n",
              "    .colab-df-container {\n",
              "      display:flex;\n",
              "      flex-wrap:wrap;\n",
              "      gap: 12px;\n",
              "    }\n",
              "\n",
              "    .colab-df-convert {\n",
              "      background-color: #E8F0FE;\n",
              "      border: none;\n",
              "      border-radius: 50%;\n",
              "      cursor: pointer;\n",
              "      display: none;\n",
              "      fill: #1967D2;\n",
              "      height: 32px;\n",
              "      padding: 0 0 0 0;\n",
              "      width: 32px;\n",
              "    }\n",
              "\n",
              "    .colab-df-convert:hover {\n",
              "      background-color: #E2EBFA;\n",
              "      box-shadow: 0px 1px 2px rgba(60, 64, 67, 0.3), 0px 1px 3px 1px rgba(60, 64, 67, 0.15);\n",
              "      fill: #174EA6;\n",
              "    }\n",
              "\n",
              "    [theme=dark] .colab-df-convert {\n",
              "      background-color: #3B4455;\n",
              "      fill: #D2E3FC;\n",
              "    }\n",
              "\n",
              "    [theme=dark] .colab-df-convert:hover {\n",
              "      background-color: #434B5C;\n",
              "      box-shadow: 0px 1px 3px 1px rgba(0, 0, 0, 0.15);\n",
              "      filter: drop-shadow(0px 1px 2px rgba(0, 0, 0, 0.3));\n",
              "      fill: #FFFFFF;\n",
              "    }\n",
              "  </style>\n",
              "\n",
              "      <script>\n",
              "        const buttonEl =\n",
              "          document.querySelector('#df-1ca15c64-3960-4711-85d1-a2c307ac71a8 button.colab-df-convert');\n",
              "        buttonEl.style.display =\n",
              "          google.colab.kernel.accessAllowed ? 'block' : 'none';\n",
              "\n",
              "        async function convertToInteractive(key) {\n",
              "          const element = document.querySelector('#df-1ca15c64-3960-4711-85d1-a2c307ac71a8');\n",
              "          const dataTable =\n",
              "            await google.colab.kernel.invokeFunction('convertToInteractive',\n",
              "                                                     [key], {});\n",
              "          if (!dataTable) return;\n",
              "\n",
              "          const docLinkHtml = 'Like what you see? Visit the ' +\n",
              "            '<a target=\"_blank\" href=https://colab.research.google.com/notebooks/data_table.ipynb>data table notebook</a>'\n",
              "            + ' to learn more about interactive tables.';\n",
              "          element.innerHTML = '';\n",
              "          dataTable['output_type'] = 'display_data';\n",
              "          await google.colab.output.renderOutput(dataTable, element);\n",
              "          const docLink = document.createElement('div');\n",
              "          docLink.innerHTML = docLinkHtml;\n",
              "          element.appendChild(docLink);\n",
              "        }\n",
              "      </script>\n",
              "    </div>\n",
              "  </div>\n",
              "  "
            ],
            "text/plain": [
              "   Identifier             Edition Statement      Place of Publication  \\\n",
              "0         206                           NaN                    London   \n",
              "1         216                           NaN  London; Virtue & Yorston   \n",
              "2         218                           NaN                    London   \n",
              "3         472                           NaN                    London   \n",
              "4         480  A new edition, revised, etc.                    London   \n",
              "\n",
              "  Date of Publication              Publisher  \\\n",
              "0         1879 [1878]       S. Tinsley & Co.   \n",
              "1                1868           Virtue & Co.   \n",
              "2                1869  Bradbury, Evans & Co.   \n",
              "3                1851          James Darling   \n",
              "4                1857   Wertheim & Macintosh   \n",
              "\n",
              "                                               Title     Author  \\\n",
              "0                  Walter Forbes. [A novel.] By A. A      A. A.   \n",
              "1  All for Greed. [A novel. The dedication signed...  A., A. A.   \n",
              "2  Love the Avenger. By the author of “All for Gr...  A., A. A.   \n",
              "3  Welsh Sketches, chiefly ecclesiastical, to the...  A., E. S.   \n",
              "4  [The World in which I live, and my place in it...  A., E. S.   \n",
              "\n",
              "                                   Contributors  Corporate Author  \\\n",
              "0                               FORBES, Walter.               NaN   \n",
              "1  BLAZE DE BURY, Marie Pauline Rose - Baroness               NaN   \n",
              "2  BLAZE DE BURY, Marie Pauline Rose - Baroness               NaN   \n",
              "3                   Appleyard, Ernest Silvanus.               NaN   \n",
              "4                           BROOME, John Henry.               NaN   \n",
              "\n",
              "   Corporate Contributors Former owner  Engraver Issuance type  \\\n",
              "0                     NaN          NaN       NaN   monographic   \n",
              "1                     NaN          NaN       NaN   monographic   \n",
              "2                     NaN          NaN       NaN   monographic   \n",
              "3                     NaN          NaN       NaN   monographic   \n",
              "4                     NaN          NaN       NaN   monographic   \n",
              "\n",
              "                                          Flickr URL  \\\n",
              "0  http://www.flickr.com/photos/britishlibrary/ta...   \n",
              "1  http://www.flickr.com/photos/britishlibrary/ta...   \n",
              "2  http://www.flickr.com/photos/britishlibrary/ta...   \n",
              "3  http://www.flickr.com/photos/britishlibrary/ta...   \n",
              "4  http://www.flickr.com/photos/britishlibrary/ta...   \n",
              "\n",
              "                            Shelfmarks  \n",
              "0    British Library HMNTS 12641.b.30.  \n",
              "1    British Library HMNTS 12626.cc.2.  \n",
              "2    British Library HMNTS 12625.dd.1.  \n",
              "3  British Library HMNTS 10369.bbb.15.  \n",
              "4     British Library HMNTS 9007.d.28.  "
            ]
          },
          "metadata": {},
          "execution_count": 11
        }
      ]
    },
    {
      "cell_type": "code",
      "source": [
        "yg_dihapus = ['Edition Statement','Corporate Author']"
      ],
      "metadata": {
        "id": "8CGeYO8aNp83"
      },
      "execution_count": 15,
      "outputs": []
    },
    {
      "cell_type": "code",
      "source": [
        "df.drop(yg_dihapus, inplace=True, axis=1)"
      ],
      "metadata": {
        "id": "eTfsmltPOJtf"
      },
      "execution_count": 16,
      "outputs": []
    },
    {
      "cell_type": "code",
      "source": [
        "df.head()"
      ],
      "metadata": {
        "colab": {
          "base_uri": "https://localhost:8080/",
          "height": 565
        },
        "id": "MEfvwXdaOwTq",
        "outputId": "2e47978d-056d-4e60-831c-9545c65941d5"
      },
      "execution_count": 18,
      "outputs": [
        {
          "output_type": "execute_result",
          "data": {
            "text/html": [
              "\n",
              "  <div id=\"df-b46e063d-73c0-4537-b1cb-78b409ea60d8\">\n",
              "    <div class=\"colab-df-container\">\n",
              "      <div>\n",
              "<style scoped>\n",
              "    .dataframe tbody tr th:only-of-type {\n",
              "        vertical-align: middle;\n",
              "    }\n",
              "\n",
              "    .dataframe tbody tr th {\n",
              "        vertical-align: top;\n",
              "    }\n",
              "\n",
              "    .dataframe thead th {\n",
              "        text-align: right;\n",
              "    }\n",
              "</style>\n",
              "<table border=\"1\" class=\"dataframe\">\n",
              "  <thead>\n",
              "    <tr style=\"text-align: right;\">\n",
              "      <th></th>\n",
              "      <th>Identifier</th>\n",
              "      <th>Place of Publication</th>\n",
              "      <th>Date of Publication</th>\n",
              "      <th>Publisher</th>\n",
              "      <th>Title</th>\n",
              "      <th>Author</th>\n",
              "      <th>Contributors</th>\n",
              "      <th>Corporate Contributors</th>\n",
              "      <th>Former owner</th>\n",
              "      <th>Engraver</th>\n",
              "      <th>Issuance type</th>\n",
              "      <th>Flickr URL</th>\n",
              "      <th>Shelfmarks</th>\n",
              "    </tr>\n",
              "  </thead>\n",
              "  <tbody>\n",
              "    <tr>\n",
              "      <th>0</th>\n",
              "      <td>206</td>\n",
              "      <td>London</td>\n",
              "      <td>1879 [1878]</td>\n",
              "      <td>S. Tinsley &amp; Co.</td>\n",
              "      <td>Walter Forbes. [A novel.] By A. A</td>\n",
              "      <td>A. A.</td>\n",
              "      <td>FORBES, Walter.</td>\n",
              "      <td>NaN</td>\n",
              "      <td>NaN</td>\n",
              "      <td>NaN</td>\n",
              "      <td>monographic</td>\n",
              "      <td>http://www.flickr.com/photos/britishlibrary/ta...</td>\n",
              "      <td>British Library HMNTS 12641.b.30.</td>\n",
              "    </tr>\n",
              "    <tr>\n",
              "      <th>1</th>\n",
              "      <td>216</td>\n",
              "      <td>London; Virtue &amp; Yorston</td>\n",
              "      <td>1868</td>\n",
              "      <td>Virtue &amp; Co.</td>\n",
              "      <td>All for Greed. [A novel. The dedication signed...</td>\n",
              "      <td>A., A. A.</td>\n",
              "      <td>BLAZE DE BURY, Marie Pauline Rose - Baroness</td>\n",
              "      <td>NaN</td>\n",
              "      <td>NaN</td>\n",
              "      <td>NaN</td>\n",
              "      <td>monographic</td>\n",
              "      <td>http://www.flickr.com/photos/britishlibrary/ta...</td>\n",
              "      <td>British Library HMNTS 12626.cc.2.</td>\n",
              "    </tr>\n",
              "    <tr>\n",
              "      <th>2</th>\n",
              "      <td>218</td>\n",
              "      <td>London</td>\n",
              "      <td>1869</td>\n",
              "      <td>Bradbury, Evans &amp; Co.</td>\n",
              "      <td>Love the Avenger. By the author of “All for Gr...</td>\n",
              "      <td>A., A. A.</td>\n",
              "      <td>BLAZE DE BURY, Marie Pauline Rose - Baroness</td>\n",
              "      <td>NaN</td>\n",
              "      <td>NaN</td>\n",
              "      <td>NaN</td>\n",
              "      <td>monographic</td>\n",
              "      <td>http://www.flickr.com/photos/britishlibrary/ta...</td>\n",
              "      <td>British Library HMNTS 12625.dd.1.</td>\n",
              "    </tr>\n",
              "    <tr>\n",
              "      <th>3</th>\n",
              "      <td>472</td>\n",
              "      <td>London</td>\n",
              "      <td>1851</td>\n",
              "      <td>James Darling</td>\n",
              "      <td>Welsh Sketches, chiefly ecclesiastical, to the...</td>\n",
              "      <td>A., E. S.</td>\n",
              "      <td>Appleyard, Ernest Silvanus.</td>\n",
              "      <td>NaN</td>\n",
              "      <td>NaN</td>\n",
              "      <td>NaN</td>\n",
              "      <td>monographic</td>\n",
              "      <td>http://www.flickr.com/photos/britishlibrary/ta...</td>\n",
              "      <td>British Library HMNTS 10369.bbb.15.</td>\n",
              "    </tr>\n",
              "    <tr>\n",
              "      <th>4</th>\n",
              "      <td>480</td>\n",
              "      <td>London</td>\n",
              "      <td>1857</td>\n",
              "      <td>Wertheim &amp; Macintosh</td>\n",
              "      <td>[The World in which I live, and my place in it...</td>\n",
              "      <td>A., E. S.</td>\n",
              "      <td>BROOME, John Henry.</td>\n",
              "      <td>NaN</td>\n",
              "      <td>NaN</td>\n",
              "      <td>NaN</td>\n",
              "      <td>monographic</td>\n",
              "      <td>http://www.flickr.com/photos/britishlibrary/ta...</td>\n",
              "      <td>British Library HMNTS 9007.d.28.</td>\n",
              "    </tr>\n",
              "  </tbody>\n",
              "</table>\n",
              "</div>\n",
              "      <button class=\"colab-df-convert\" onclick=\"convertToInteractive('df-b46e063d-73c0-4537-b1cb-78b409ea60d8')\"\n",
              "              title=\"Convert this dataframe to an interactive table.\"\n",
              "              style=\"display:none;\">\n",
              "        \n",
              "  <svg xmlns=\"http://www.w3.org/2000/svg\" height=\"24px\"viewBox=\"0 0 24 24\"\n",
              "       width=\"24px\">\n",
              "    <path d=\"M0 0h24v24H0V0z\" fill=\"none\"/>\n",
              "    <path d=\"M18.56 5.44l.94 2.06.94-2.06 2.06-.94-2.06-.94-.94-2.06-.94 2.06-2.06.94zm-11 1L8.5 8.5l.94-2.06 2.06-.94-2.06-.94L8.5 2.5l-.94 2.06-2.06.94zm10 10l.94 2.06.94-2.06 2.06-.94-2.06-.94-.94-2.06-.94 2.06-2.06.94z\"/><path d=\"M17.41 7.96l-1.37-1.37c-.4-.4-.92-.59-1.43-.59-.52 0-1.04.2-1.43.59L10.3 9.45l-7.72 7.72c-.78.78-.78 2.05 0 2.83L4 21.41c.39.39.9.59 1.41.59.51 0 1.02-.2 1.41-.59l7.78-7.78 2.81-2.81c.8-.78.8-2.07 0-2.86zM5.41 20L4 18.59l7.72-7.72 1.47 1.35L5.41 20z\"/>\n",
              "  </svg>\n",
              "      </button>\n",
              "      \n",
              "  <style>\n",
              "    .colab-df-container {\n",
              "      display:flex;\n",
              "      flex-wrap:wrap;\n",
              "      gap: 12px;\n",
              "    }\n",
              "\n",
              "    .colab-df-convert {\n",
              "      background-color: #E8F0FE;\n",
              "      border: none;\n",
              "      border-radius: 50%;\n",
              "      cursor: pointer;\n",
              "      display: none;\n",
              "      fill: #1967D2;\n",
              "      height: 32px;\n",
              "      padding: 0 0 0 0;\n",
              "      width: 32px;\n",
              "    }\n",
              "\n",
              "    .colab-df-convert:hover {\n",
              "      background-color: #E2EBFA;\n",
              "      box-shadow: 0px 1px 2px rgba(60, 64, 67, 0.3), 0px 1px 3px 1px rgba(60, 64, 67, 0.15);\n",
              "      fill: #174EA6;\n",
              "    }\n",
              "\n",
              "    [theme=dark] .colab-df-convert {\n",
              "      background-color: #3B4455;\n",
              "      fill: #D2E3FC;\n",
              "    }\n",
              "\n",
              "    [theme=dark] .colab-df-convert:hover {\n",
              "      background-color: #434B5C;\n",
              "      box-shadow: 0px 1px 3px 1px rgba(0, 0, 0, 0.15);\n",
              "      filter: drop-shadow(0px 1px 2px rgba(0, 0, 0, 0.3));\n",
              "      fill: #FFFFFF;\n",
              "    }\n",
              "  </style>\n",
              "\n",
              "      <script>\n",
              "        const buttonEl =\n",
              "          document.querySelector('#df-b46e063d-73c0-4537-b1cb-78b409ea60d8 button.colab-df-convert');\n",
              "        buttonEl.style.display =\n",
              "          google.colab.kernel.accessAllowed ? 'block' : 'none';\n",
              "\n",
              "        async function convertToInteractive(key) {\n",
              "          const element = document.querySelector('#df-b46e063d-73c0-4537-b1cb-78b409ea60d8');\n",
              "          const dataTable =\n",
              "            await google.colab.kernel.invokeFunction('convertToInteractive',\n",
              "                                                     [key], {});\n",
              "          if (!dataTable) return;\n",
              "\n",
              "          const docLinkHtml = 'Like what you see? Visit the ' +\n",
              "            '<a target=\"_blank\" href=https://colab.research.google.com/notebooks/data_table.ipynb>data table notebook</a>'\n",
              "            + ' to learn more about interactive tables.';\n",
              "          element.innerHTML = '';\n",
              "          dataTable['output_type'] = 'display_data';\n",
              "          await google.colab.output.renderOutput(dataTable, element);\n",
              "          const docLink = document.createElement('div');\n",
              "          docLink.innerHTML = docLinkHtml;\n",
              "          element.appendChild(docLink);\n",
              "        }\n",
              "      </script>\n",
              "    </div>\n",
              "  </div>\n",
              "  "
            ],
            "text/plain": [
              "   Identifier      Place of Publication Date of Publication  \\\n",
              "0         206                    London         1879 [1878]   \n",
              "1         216  London; Virtue & Yorston                1868   \n",
              "2         218                    London                1869   \n",
              "3         472                    London                1851   \n",
              "4         480                    London                1857   \n",
              "\n",
              "               Publisher                                              Title  \\\n",
              "0       S. Tinsley & Co.                  Walter Forbes. [A novel.] By A. A   \n",
              "1           Virtue & Co.  All for Greed. [A novel. The dedication signed...   \n",
              "2  Bradbury, Evans & Co.  Love the Avenger. By the author of “All for Gr...   \n",
              "3          James Darling  Welsh Sketches, chiefly ecclesiastical, to the...   \n",
              "4   Wertheim & Macintosh  [The World in which I live, and my place in it...   \n",
              "\n",
              "      Author                                  Contributors  \\\n",
              "0      A. A.                               FORBES, Walter.   \n",
              "1  A., A. A.  BLAZE DE BURY, Marie Pauline Rose - Baroness   \n",
              "2  A., A. A.  BLAZE DE BURY, Marie Pauline Rose - Baroness   \n",
              "3  A., E. S.                   Appleyard, Ernest Silvanus.   \n",
              "4  A., E. S.                           BROOME, John Henry.   \n",
              "\n",
              "   Corporate Contributors Former owner  Engraver Issuance type  \\\n",
              "0                     NaN          NaN       NaN   monographic   \n",
              "1                     NaN          NaN       NaN   monographic   \n",
              "2                     NaN          NaN       NaN   monographic   \n",
              "3                     NaN          NaN       NaN   monographic   \n",
              "4                     NaN          NaN       NaN   monographic   \n",
              "\n",
              "                                          Flickr URL  \\\n",
              "0  http://www.flickr.com/photos/britishlibrary/ta...   \n",
              "1  http://www.flickr.com/photos/britishlibrary/ta...   \n",
              "2  http://www.flickr.com/photos/britishlibrary/ta...   \n",
              "3  http://www.flickr.com/photos/britishlibrary/ta...   \n",
              "4  http://www.flickr.com/photos/britishlibrary/ta...   \n",
              "\n",
              "                            Shelfmarks  \n",
              "0    British Library HMNTS 12641.b.30.  \n",
              "1    British Library HMNTS 12626.cc.2.  \n",
              "2    British Library HMNTS 12625.dd.1.  \n",
              "3  British Library HMNTS 10369.bbb.15.  \n",
              "4     British Library HMNTS 9007.d.28.  "
            ]
          },
          "metadata": {},
          "execution_count": 18
        }
      ]
    },
    {
      "cell_type": "code",
      "source": [
        "data['Identifier'].is_unique"
      ],
      "metadata": {
        "colab": {
          "base_uri": "https://localhost:8080/"
        },
        "id": "sYJPHsQwRxBH",
        "outputId": "055eddd4-ed65-43b9-9e90-e25b62cbb8c6"
      },
      "execution_count": 20,
      "outputs": [
        {
          "output_type": "execute_result",
          "data": {
            "text/plain": [
              "True"
            ]
          },
          "metadata": {},
          "execution_count": 20
        }
      ]
    },
    {
      "cell_type": "code",
      "source": [
        "df = df.set_index('Identifier')"
      ],
      "metadata": {
        "id": "HnNLBjDCR4uk"
      },
      "execution_count": 21,
      "outputs": []
    },
    {
      "cell_type": "code",
      "source": [
        "df.head()"
      ],
      "metadata": {
        "colab": {
          "base_uri": "https://localhost:8080/",
          "height": 597
        },
        "id": "Lo5lnuNeSCec",
        "outputId": "0dd6aab5-f889-4b01-fec9-fe8d92104eb0"
      },
      "execution_count": 23,
      "outputs": [
        {
          "output_type": "execute_result",
          "data": {
            "text/html": [
              "\n",
              "  <div id=\"df-6b9cbff0-0910-49d2-86cb-7e8135f6cd68\">\n",
              "    <div class=\"colab-df-container\">\n",
              "      <div>\n",
              "<style scoped>\n",
              "    .dataframe tbody tr th:only-of-type {\n",
              "        vertical-align: middle;\n",
              "    }\n",
              "\n",
              "    .dataframe tbody tr th {\n",
              "        vertical-align: top;\n",
              "    }\n",
              "\n",
              "    .dataframe thead th {\n",
              "        text-align: right;\n",
              "    }\n",
              "</style>\n",
              "<table border=\"1\" class=\"dataframe\">\n",
              "  <thead>\n",
              "    <tr style=\"text-align: right;\">\n",
              "      <th></th>\n",
              "      <th>Place of Publication</th>\n",
              "      <th>Date of Publication</th>\n",
              "      <th>Publisher</th>\n",
              "      <th>Title</th>\n",
              "      <th>Author</th>\n",
              "      <th>Contributors</th>\n",
              "      <th>Corporate Contributors</th>\n",
              "      <th>Former owner</th>\n",
              "      <th>Engraver</th>\n",
              "      <th>Issuance type</th>\n",
              "      <th>Flickr URL</th>\n",
              "      <th>Shelfmarks</th>\n",
              "    </tr>\n",
              "    <tr>\n",
              "      <th>Identifier</th>\n",
              "      <th></th>\n",
              "      <th></th>\n",
              "      <th></th>\n",
              "      <th></th>\n",
              "      <th></th>\n",
              "      <th></th>\n",
              "      <th></th>\n",
              "      <th></th>\n",
              "      <th></th>\n",
              "      <th></th>\n",
              "      <th></th>\n",
              "      <th></th>\n",
              "    </tr>\n",
              "  </thead>\n",
              "  <tbody>\n",
              "    <tr>\n",
              "      <th>206</th>\n",
              "      <td>London</td>\n",
              "      <td>1879 [1878]</td>\n",
              "      <td>S. Tinsley &amp; Co.</td>\n",
              "      <td>Walter Forbes. [A novel.] By A. A</td>\n",
              "      <td>A. A.</td>\n",
              "      <td>FORBES, Walter.</td>\n",
              "      <td>NaN</td>\n",
              "      <td>NaN</td>\n",
              "      <td>NaN</td>\n",
              "      <td>monographic</td>\n",
              "      <td>http://www.flickr.com/photos/britishlibrary/ta...</td>\n",
              "      <td>British Library HMNTS 12641.b.30.</td>\n",
              "    </tr>\n",
              "    <tr>\n",
              "      <th>216</th>\n",
              "      <td>London; Virtue &amp; Yorston</td>\n",
              "      <td>1868</td>\n",
              "      <td>Virtue &amp; Co.</td>\n",
              "      <td>All for Greed. [A novel. The dedication signed...</td>\n",
              "      <td>A., A. A.</td>\n",
              "      <td>BLAZE DE BURY, Marie Pauline Rose - Baroness</td>\n",
              "      <td>NaN</td>\n",
              "      <td>NaN</td>\n",
              "      <td>NaN</td>\n",
              "      <td>monographic</td>\n",
              "      <td>http://www.flickr.com/photos/britishlibrary/ta...</td>\n",
              "      <td>British Library HMNTS 12626.cc.2.</td>\n",
              "    </tr>\n",
              "    <tr>\n",
              "      <th>218</th>\n",
              "      <td>London</td>\n",
              "      <td>1869</td>\n",
              "      <td>Bradbury, Evans &amp; Co.</td>\n",
              "      <td>Love the Avenger. By the author of “All for Gr...</td>\n",
              "      <td>A., A. A.</td>\n",
              "      <td>BLAZE DE BURY, Marie Pauline Rose - Baroness</td>\n",
              "      <td>NaN</td>\n",
              "      <td>NaN</td>\n",
              "      <td>NaN</td>\n",
              "      <td>monographic</td>\n",
              "      <td>http://www.flickr.com/photos/britishlibrary/ta...</td>\n",
              "      <td>British Library HMNTS 12625.dd.1.</td>\n",
              "    </tr>\n",
              "    <tr>\n",
              "      <th>472</th>\n",
              "      <td>London</td>\n",
              "      <td>1851</td>\n",
              "      <td>James Darling</td>\n",
              "      <td>Welsh Sketches, chiefly ecclesiastical, to the...</td>\n",
              "      <td>A., E. S.</td>\n",
              "      <td>Appleyard, Ernest Silvanus.</td>\n",
              "      <td>NaN</td>\n",
              "      <td>NaN</td>\n",
              "      <td>NaN</td>\n",
              "      <td>monographic</td>\n",
              "      <td>http://www.flickr.com/photos/britishlibrary/ta...</td>\n",
              "      <td>British Library HMNTS 10369.bbb.15.</td>\n",
              "    </tr>\n",
              "    <tr>\n",
              "      <th>480</th>\n",
              "      <td>London</td>\n",
              "      <td>1857</td>\n",
              "      <td>Wertheim &amp; Macintosh</td>\n",
              "      <td>[The World in which I live, and my place in it...</td>\n",
              "      <td>A., E. S.</td>\n",
              "      <td>BROOME, John Henry.</td>\n",
              "      <td>NaN</td>\n",
              "      <td>NaN</td>\n",
              "      <td>NaN</td>\n",
              "      <td>monographic</td>\n",
              "      <td>http://www.flickr.com/photos/britishlibrary/ta...</td>\n",
              "      <td>British Library HMNTS 9007.d.28.</td>\n",
              "    </tr>\n",
              "  </tbody>\n",
              "</table>\n",
              "</div>\n",
              "      <button class=\"colab-df-convert\" onclick=\"convertToInteractive('df-6b9cbff0-0910-49d2-86cb-7e8135f6cd68')\"\n",
              "              title=\"Convert this dataframe to an interactive table.\"\n",
              "              style=\"display:none;\">\n",
              "        \n",
              "  <svg xmlns=\"http://www.w3.org/2000/svg\" height=\"24px\"viewBox=\"0 0 24 24\"\n",
              "       width=\"24px\">\n",
              "    <path d=\"M0 0h24v24H0V0z\" fill=\"none\"/>\n",
              "    <path d=\"M18.56 5.44l.94 2.06.94-2.06 2.06-.94-2.06-.94-.94-2.06-.94 2.06-2.06.94zm-11 1L8.5 8.5l.94-2.06 2.06-.94-2.06-.94L8.5 2.5l-.94 2.06-2.06.94zm10 10l.94 2.06.94-2.06 2.06-.94-2.06-.94-.94-2.06-.94 2.06-2.06.94z\"/><path d=\"M17.41 7.96l-1.37-1.37c-.4-.4-.92-.59-1.43-.59-.52 0-1.04.2-1.43.59L10.3 9.45l-7.72 7.72c-.78.78-.78 2.05 0 2.83L4 21.41c.39.39.9.59 1.41.59.51 0 1.02-.2 1.41-.59l7.78-7.78 2.81-2.81c.8-.78.8-2.07 0-2.86zM5.41 20L4 18.59l7.72-7.72 1.47 1.35L5.41 20z\"/>\n",
              "  </svg>\n",
              "      </button>\n",
              "      \n",
              "  <style>\n",
              "    .colab-df-container {\n",
              "      display:flex;\n",
              "      flex-wrap:wrap;\n",
              "      gap: 12px;\n",
              "    }\n",
              "\n",
              "    .colab-df-convert {\n",
              "      background-color: #E8F0FE;\n",
              "      border: none;\n",
              "      border-radius: 50%;\n",
              "      cursor: pointer;\n",
              "      display: none;\n",
              "      fill: #1967D2;\n",
              "      height: 32px;\n",
              "      padding: 0 0 0 0;\n",
              "      width: 32px;\n",
              "    }\n",
              "\n",
              "    .colab-df-convert:hover {\n",
              "      background-color: #E2EBFA;\n",
              "      box-shadow: 0px 1px 2px rgba(60, 64, 67, 0.3), 0px 1px 3px 1px rgba(60, 64, 67, 0.15);\n",
              "      fill: #174EA6;\n",
              "    }\n",
              "\n",
              "    [theme=dark] .colab-df-convert {\n",
              "      background-color: #3B4455;\n",
              "      fill: #D2E3FC;\n",
              "    }\n",
              "\n",
              "    [theme=dark] .colab-df-convert:hover {\n",
              "      background-color: #434B5C;\n",
              "      box-shadow: 0px 1px 3px 1px rgba(0, 0, 0, 0.15);\n",
              "      filter: drop-shadow(0px 1px 2px rgba(0, 0, 0, 0.3));\n",
              "      fill: #FFFFFF;\n",
              "    }\n",
              "  </style>\n",
              "\n",
              "      <script>\n",
              "        const buttonEl =\n",
              "          document.querySelector('#df-6b9cbff0-0910-49d2-86cb-7e8135f6cd68 button.colab-df-convert');\n",
              "        buttonEl.style.display =\n",
              "          google.colab.kernel.accessAllowed ? 'block' : 'none';\n",
              "\n",
              "        async function convertToInteractive(key) {\n",
              "          const element = document.querySelector('#df-6b9cbff0-0910-49d2-86cb-7e8135f6cd68');\n",
              "          const dataTable =\n",
              "            await google.colab.kernel.invokeFunction('convertToInteractive',\n",
              "                                                     [key], {});\n",
              "          if (!dataTable) return;\n",
              "\n",
              "          const docLinkHtml = 'Like what you see? Visit the ' +\n",
              "            '<a target=\"_blank\" href=https://colab.research.google.com/notebooks/data_table.ipynb>data table notebook</a>'\n",
              "            + ' to learn more about interactive tables.';\n",
              "          element.innerHTML = '';\n",
              "          dataTable['output_type'] = 'display_data';\n",
              "          await google.colab.output.renderOutput(dataTable, element);\n",
              "          const docLink = document.createElement('div');\n",
              "          docLink.innerHTML = docLinkHtml;\n",
              "          element.appendChild(docLink);\n",
              "        }\n",
              "      </script>\n",
              "    </div>\n",
              "  </div>\n",
              "  "
            ],
            "text/plain": [
              "                Place of Publication Date of Publication  \\\n",
              "Identifier                                                 \n",
              "206                           London         1879 [1878]   \n",
              "216         London; Virtue & Yorston                1868   \n",
              "218                           London                1869   \n",
              "472                           London                1851   \n",
              "480                           London                1857   \n",
              "\n",
              "                        Publisher  \\\n",
              "Identifier                          \n",
              "206              S. Tinsley & Co.   \n",
              "216                  Virtue & Co.   \n",
              "218         Bradbury, Evans & Co.   \n",
              "472                 James Darling   \n",
              "480          Wertheim & Macintosh   \n",
              "\n",
              "                                                        Title     Author  \\\n",
              "Identifier                                                                 \n",
              "206                         Walter Forbes. [A novel.] By A. A      A. A.   \n",
              "216         All for Greed. [A novel. The dedication signed...  A., A. A.   \n",
              "218         Love the Avenger. By the author of “All for Gr...  A., A. A.   \n",
              "472         Welsh Sketches, chiefly ecclesiastical, to the...  A., E. S.   \n",
              "480         [The World in which I live, and my place in it...  A., E. S.   \n",
              "\n",
              "                                            Contributors  \\\n",
              "Identifier                                                 \n",
              "206                                      FORBES, Walter.   \n",
              "216         BLAZE DE BURY, Marie Pauline Rose - Baroness   \n",
              "218         BLAZE DE BURY, Marie Pauline Rose - Baroness   \n",
              "472                          Appleyard, Ernest Silvanus.   \n",
              "480                                  BROOME, John Henry.   \n",
              "\n",
              "            Corporate Contributors Former owner  Engraver Issuance type  \\\n",
              "Identifier                                                                \n",
              "206                            NaN          NaN       NaN   monographic   \n",
              "216                            NaN          NaN       NaN   monographic   \n",
              "218                            NaN          NaN       NaN   monographic   \n",
              "472                            NaN          NaN       NaN   monographic   \n",
              "480                            NaN          NaN       NaN   monographic   \n",
              "\n",
              "                                                   Flickr URL  \\\n",
              "Identifier                                                      \n",
              "206         http://www.flickr.com/photos/britishlibrary/ta...   \n",
              "216         http://www.flickr.com/photos/britishlibrary/ta...   \n",
              "218         http://www.flickr.com/photos/britishlibrary/ta...   \n",
              "472         http://www.flickr.com/photos/britishlibrary/ta...   \n",
              "480         http://www.flickr.com/photos/britishlibrary/ta...   \n",
              "\n",
              "                                     Shelfmarks  \n",
              "Identifier                                       \n",
              "206           British Library HMNTS 12641.b.30.  \n",
              "216           British Library HMNTS 12626.cc.2.  \n",
              "218           British Library HMNTS 12625.dd.1.  \n",
              "472         British Library HMNTS 10369.bbb.15.  \n",
              "480            British Library HMNTS 9007.d.28.  "
            ]
          },
          "metadata": {},
          "execution_count": 23
        }
      ]
    },
    {
      "cell_type": "code",
      "source": [
        "df.loc[472]"
      ],
      "metadata": {
        "colab": {
          "base_uri": "https://localhost:8080/"
        },
        "id": "wkb1hypfSDjz",
        "outputId": "9d72f5c5-58fc-4d80-f393-5618e37c2842"
      },
      "execution_count": 22,
      "outputs": [
        {
          "output_type": "execute_result",
          "data": {
            "text/plain": [
              "Place of Publication                                                 London\n",
              "Date of Publication                                                    1851\n",
              "Publisher                                                     James Darling\n",
              "Title                     Welsh Sketches, chiefly ecclesiastical, to the...\n",
              "Author                                                            A., E. S.\n",
              "Contributors                                    Appleyard, Ernest Silvanus.\n",
              "Corporate Contributors                                                  NaN\n",
              "Former owner                                                            NaN\n",
              "Engraver                                                                NaN\n",
              "Issuance type                                                   monographic\n",
              "Flickr URL                http://www.flickr.com/photos/britishlibrary/ta...\n",
              "Shelfmarks                              British Library HMNTS 10369.bbb.15.\n",
              "Name: 472, dtype: object"
            ]
          },
          "metadata": {},
          "execution_count": 22
        }
      ]
    },
    {
      "cell_type": "code",
      "source": [
        ""
      ],
      "metadata": {
        "id": "ZfYID02aSGTc"
      },
      "execution_count": 23,
      "outputs": []
    },
    {
      "cell_type": "markdown",
      "source": [
        "3. merapikan fields"
      ],
      "metadata": {
        "id": "U6hCq4vzQILP"
      }
    },
    {
      "cell_type": "code",
      "source": [
        "df.dtypes.value_counts()"
      ],
      "metadata": {
        "colab": {
          "base_uri": "https://localhost:8080/"
        },
        "id": "ZSEr2g9nQOeJ",
        "outputId": "f24d9abf-6de8-42ad-c09b-4a012a477b47"
      },
      "execution_count": 24,
      "outputs": [
        {
          "output_type": "execute_result",
          "data": {
            "text/plain": [
              "object     10\n",
              "float64     2\n",
              "dtype: int64"
            ]
          },
          "metadata": {},
          "execution_count": 24
        }
      ]
    },
    {
      "cell_type": "code",
      "source": [
        "df.loc[1905:,'Date of Publication'].head(15)"
      ],
      "metadata": {
        "colab": {
          "base_uri": "https://localhost:8080/"
        },
        "id": "RjeXx-_2QyjD",
        "outputId": "593d37c3-8673-4c89-c7b5-6f6751599fbc"
      },
      "execution_count": 25,
      "outputs": [
        {
          "output_type": "execute_result",
          "data": {
            "text/plain": [
              "Identifier\n",
              "1905                  1888\n",
              "1929           1839, 38-54\n",
              "2836                  1897\n",
              "2854                  1865\n",
              "2956               1860-63\n",
              "2957                  1873\n",
              "3017                  1866\n",
              "3131                  1899\n",
              "4598                  1814\n",
              "4884                  1820\n",
              "4976                  1800\n",
              "5382    1847, 48 [1846-48]\n",
              "5385               [1897?]\n",
              "5389               [1897?]\n",
              "5432                  1893\n",
              "Name: Date of Publication, dtype: object"
            ]
          },
          "metadata": {},
          "execution_count": 25
        }
      ]
    },
    {
      "cell_type": "markdown",
      "source": [
        "~ hilangkan tgl lain dalam kurung siku\n",
        "~ hilangkan rentang tanggal\n",
        "~ hilangkan tanggal yang gajelas[1897?]--> NaN\n",
        "~ konversi NaN"
      ],
      "metadata": {
        "id": "nPomyTpPMw0N"
      }
    },
    {
      "cell_type": "code",
      "source": [
        "regex = r'^(\\d{4})'"
      ],
      "metadata": {
        "id": "am6BXeAYTW8L"
      },
      "execution_count": 30,
      "outputs": []
    },
    {
      "cell_type": "code",
      "source": [
        "ekstrak = df['Date of Publication'].str.extract(r'^(\\d{4})',expand=False)"
      ],
      "metadata": {
        "id": "3yA3WAhqSpfg"
      },
      "execution_count": 31,
      "outputs": []
    },
    {
      "cell_type": "code",
      "source": [
        "df.loc[667]"
      ],
      "metadata": {
        "colab": {
          "base_uri": "https://localhost:8080/"
        },
        "id": "c9eCWCb5Tgfy",
        "outputId": "c927ed0c-051e-466c-d162-11c5199d6efb"
      },
      "execution_count": 32,
      "outputs": [
        {
          "output_type": "execute_result",
          "data": {
            "text/plain": [
              "Place of Publication                    pp. 40. G. Bryan & Co: Oxford, 1898\n",
              "Date of Publication                                                     NaN\n",
              "Publisher                                                               NaN\n",
              "Title                     The Coming of Spring, and other poems. By J. A...\n",
              "Author                                                        A., J.|A., J.\n",
              "Contributors                                  ANDREWS, J. - Writer of Verse\n",
              "Corporate Contributors                                                  NaN\n",
              "Former owner                                                            NaN\n",
              "Engraver                                                                NaN\n",
              "Issuance type                                                   monographic\n",
              "Flickr URL                http://www.flickr.com/photos/britishlibrary/ta...\n",
              "Shelfmarks                               British Library HMNTS 011652.g.73.\n",
              "Name: 667, dtype: object"
            ]
          },
          "metadata": {},
          "execution_count": 32
        }
      ]
    },
    {
      "cell_type": "code",
      "source": [
        "df.loc[4157862]"
      ],
      "metadata": {
        "colab": {
          "base_uri": "https://localhost:8080/"
        },
        "id": "zQwcsVrQTt_p",
        "outputId": "116b6cb1-8772-42d8-c518-3ced8f08e7dd"
      },
      "execution_count": 33,
      "outputs": [
        {
          "output_type": "execute_result",
          "data": {
            "text/plain": [
              "Place of Publication                                    Newcastle-upon-Tyne\n",
              "Date of Publication                                                    1867\n",
              "Publisher                                                        T. Fordyce\n",
              "Title                     Local Records; or, Historical Register of rema...\n",
              "Author                        FORDYCE, T. - Printer, of Newcastle-upon-Tyne\n",
              "Contributors               SYKES, John - Bookseller, of Newcastle-upon-Tyne\n",
              "Corporate Contributors                                                  NaN\n",
              "Former owner                                                            NaN\n",
              "Engraver                                                                NaN\n",
              "Issuance type                                                   monographic\n",
              "Flickr URL                http://www.flickr.com/photos/britishlibrary/ta...\n",
              "Shelfmarks                British Library HMNTS|British Library HMNTS 01...\n",
              "Name: 4157862, dtype: object"
            ]
          },
          "metadata": {},
          "execution_count": 33
        }
      ]
    },
    {
      "cell_type": "code",
      "source": [
        "df['Place of Publication'].tail(15)"
      ],
      "metadata": {
        "colab": {
          "base_uri": "https://localhost:8080/"
        },
        "id": "Qn5ORajCT3N_",
        "outputId": "69d10745-74e7-4689-a360-81335ea4576d"
      },
      "execution_count": 34,
      "outputs": [
        {
          "output_type": "execute_result",
          "data": {
            "text/plain": [
              "Identifier\n",
              "4115138    G. Eld: London, 1608\n",
              "4116063                  London\n",
              "4117526                 Leipzig\n",
              "4117583                  London\n",
              "4117749                New York\n",
              "4117751                New York\n",
              "4117752                  London\n",
              "4156359                New York\n",
              "4157746                  London\n",
              "4157862     Newcastle-upon-Tyne\n",
              "4158088                  London\n",
              "4158128                   Derby\n",
              "4159563                  London\n",
              "4159587     Newcastle upon Tyne\n",
              "4160339                  London\n",
              "Name: Place of Publication, dtype: object"
            ]
          },
          "metadata": {},
          "execution_count": 34
        }
      ]
    },
    {
      "cell_type": "code",
      "source": [
        "df.loc[4115138]"
      ],
      "metadata": {
        "colab": {
          "base_uri": "https://localhost:8080/"
        },
        "id": "ewyPkfW2T3JT",
        "outputId": "34ea54fb-2c7b-4baa-c6b8-248fd33236f3"
      },
      "execution_count": 35,
      "outputs": [
        {
          "output_type": "execute_result",
          "data": {
            "text/plain": [
              "Place of Publication                                   G. Eld: London, 1608\n",
              "Date of Publication                                                     NaN\n",
              "Publisher                                                               NaN\n",
              "Title                     The Revenger's Tagaedie. As it hath beene sund...\n",
              "Author                                                                  NaN\n",
              "Contributors                                               TOURNEUR, Cyril.\n",
              "Corporate Contributors                                                  NaN\n",
              "Former owner                                                            NaN\n",
              "Engraver                                                                NaN\n",
              "Issuance type                                                   monographic\n",
              "Flickr URL                http://www.flickr.com/photos/britishlibrary/ta...\n",
              "Shelfmarks                British Library HMNTS 644.c.80.|British Librar...\n",
              "Name: 4115138, dtype: object"
            ]
          },
          "metadata": {},
          "execution_count": 35
        }
      ]
    },
    {
      "cell_type": "code",
      "source": [
        "publikasi = df['Place of Publication']\n",
        "london = publikasi.str.contains('London')\n",
        "london[:5]"
      ],
      "metadata": {
        "colab": {
          "base_uri": "https://localhost:8080/"
        },
        "id": "jiilJSlKUTcc",
        "outputId": "949bf59f-4ffa-4849-9fbf-cc59e1603fec"
      },
      "execution_count": 40,
      "outputs": [
        {
          "output_type": "execute_result",
          "data": {
            "text/plain": [
              "Identifier\n",
              "206    True\n",
              "216    True\n",
              "218    True\n",
              "472    True\n",
              "480    True\n",
              "Name: Place of Publication, dtype: bool"
            ]
          },
          "metadata": {},
          "execution_count": 40
        }
      ]
    },
    {
      "cell_type": "code",
      "source": [
        "oxford = publikasi.str.contains ('Oxford')"
      ],
      "metadata": {
        "id": "m86vCXjqU2Vd"
      },
      "execution_count": 42,
      "outputs": []
    },
    {
      "cell_type": "code",
      "source": [
        "df['Place of Publication'] = np.where(london,'London', \n",
        "                                      np.where(oxford, 'Oxford',\n",
        "                                      publikasi.str.replace ('-', ' ')))"
      ],
      "metadata": {
        "id": "kGGZZP1SVEdW"
      },
      "execution_count": 49,
      "outputs": []
    },
    {
      "cell_type": "code",
      "source": [
        "df['Place of Publication'].head(15)"
      ],
      "metadata": {
        "colab": {
          "base_uri": "https://localhost:8080/"
        },
        "id": "fwI8UVYAWHhB",
        "outputId": "92416649-c6fb-40fa-c1f5-13c6bffe4893"
      },
      "execution_count": 51,
      "outputs": [
        {
          "output_type": "execute_result",
          "data": {
            "text/plain": [
              "Identifier\n",
              "206          London\n",
              "216          London\n",
              "218          London\n",
              "472          London\n",
              "480          London\n",
              "481          London\n",
              "519          London\n",
              "667          Oxford\n",
              "874          London\n",
              "1143         London\n",
              "1280       Coventry\n",
              "1808    Christiania\n",
              "1905        Firenze\n",
              "1929      Amsterdam\n",
              "2836         Savona\n",
              "Name: Place of Publication, dtype: object"
            ]
          },
          "metadata": {},
          "execution_count": 51
        }
      ]
    },
    {
      "cell_type": "markdown",
      "source": [
        "####DATA SET BARU "
      ],
      "metadata": {
        "id": "7nSbKLrwWoDz"
      }
    },
    {
      "cell_type": "markdown",
      "source": [
        "5. membersihkan dataset dengan applymap"
      ],
      "metadata": {
        "id": "juvPWihMW4Dl"
      }
    },
    {
      "cell_type": "code",
      "source": [
        "university_town = []\n",
        "with open(\"university_towns.txt\") as file:\n",
        "  for line in file:\n",
        "    if '[edit]'in line:\n",
        "      state = line \n",
        "    else:\n",
        "        university_town.append((state,line))\n",
        "    university_town[:5]"
      ],
      "metadata": {
        "id": "WmLhuJXrWu7P"
      },
      "execution_count": 39,
      "outputs": []
    },
    {
      "cell_type": "code",
      "source": [
        "df_kota = pd.DataFrame(university_town, columns=['State','RegionName'])\n",
        "df_kota.head(15)"
      ],
      "metadata": {
        "colab": {
          "base_uri": "https://localhost:8080/",
          "height": 520
        },
        "id": "P9mCtx32Y9hL",
        "outputId": "aa695e59-2d58-4255-f285-3e5f125c241e"
      },
      "execution_count": null,
      "outputs": [
        {
          "output_type": "execute_result",
          "data": {
            "text/html": [
              "\n",
              "  <div id=\"df-c942d32f-1f0b-4104-be92-6b04bdc04ca1\">\n",
              "    <div class=\"colab-df-container\">\n",
              "      <div>\n",
              "<style scoped>\n",
              "    .dataframe tbody tr th:only-of-type {\n",
              "        vertical-align: middle;\n",
              "    }\n",
              "\n",
              "    .dataframe tbody tr th {\n",
              "        vertical-align: top;\n",
              "    }\n",
              "\n",
              "    .dataframe thead th {\n",
              "        text-align: right;\n",
              "    }\n",
              "</style>\n",
              "<table border=\"1\" class=\"dataframe\">\n",
              "  <thead>\n",
              "    <tr style=\"text-align: right;\">\n",
              "      <th></th>\n",
              "      <th>State</th>\n",
              "      <th>RegionName</th>\n",
              "    </tr>\n",
              "  </thead>\n",
              "  <tbody>\n",
              "    <tr>\n",
              "      <th>0</th>\n",
              "      <td>Alabama[edit]\\n</td>\n",
              "      <td>Auburn (Auburn University)[1]\\n</td>\n",
              "    </tr>\n",
              "    <tr>\n",
              "      <th>1</th>\n",
              "      <td>Alabama[edit]\\n</td>\n",
              "      <td>Florence (University of North Alabama)\\n</td>\n",
              "    </tr>\n",
              "    <tr>\n",
              "      <th>2</th>\n",
              "      <td>Alabama[edit]\\n</td>\n",
              "      <td>Jacksonville (Jacksonville State University)[2]\\n</td>\n",
              "    </tr>\n",
              "    <tr>\n",
              "      <th>3</th>\n",
              "      <td>Alabama[edit]\\n</td>\n",
              "      <td>Livingston (University of West Alabama)[2]\\n</td>\n",
              "    </tr>\n",
              "    <tr>\n",
              "      <th>4</th>\n",
              "      <td>Alabama[edit]\\n</td>\n",
              "      <td>Montevallo (University of Montevallo)[2]\\n</td>\n",
              "    </tr>\n",
              "    <tr>\n",
              "      <th>5</th>\n",
              "      <td>Alabama[edit]\\n</td>\n",
              "      <td>Troy (Troy University)[2]\\n</td>\n",
              "    </tr>\n",
              "    <tr>\n",
              "      <th>6</th>\n",
              "      <td>Alabama[edit]\\n</td>\n",
              "      <td>Tuscaloosa (University of Alabama, Stillman Co...</td>\n",
              "    </tr>\n",
              "    <tr>\n",
              "      <th>7</th>\n",
              "      <td>Alabama[edit]\\n</td>\n",
              "      <td>Tuskegee (Tuskegee University)[5]\\n</td>\n",
              "    </tr>\n",
              "    <tr>\n",
              "      <th>8</th>\n",
              "      <td>Alaska[edit]\\n</td>\n",
              "      <td>Fairbanks (University of Alaska Fairbanks)[2]\\n</td>\n",
              "    </tr>\n",
              "    <tr>\n",
              "      <th>9</th>\n",
              "      <td>Arizona[edit]\\n</td>\n",
              "      <td>Flagstaff (Northern Arizona University)[6]\\n</td>\n",
              "    </tr>\n",
              "    <tr>\n",
              "      <th>10</th>\n",
              "      <td>Arizona[edit]\\n</td>\n",
              "      <td>Tempe (Arizona State University)\\n</td>\n",
              "    </tr>\n",
              "    <tr>\n",
              "      <th>11</th>\n",
              "      <td>Arizona[edit]\\n</td>\n",
              "      <td>Tucson (University of Arizona)\\n</td>\n",
              "    </tr>\n",
              "    <tr>\n",
              "      <th>12</th>\n",
              "      <td>Arkansas[edit]\\n</td>\n",
              "      <td>Arkadelphia (Henderson State University, Ouach...</td>\n",
              "    </tr>\n",
              "    <tr>\n",
              "      <th>13</th>\n",
              "      <td>Arkansas[edit]\\n</td>\n",
              "      <td>Conway (Central Baptist College, Hendrix Colle...</td>\n",
              "    </tr>\n",
              "    <tr>\n",
              "      <th>14</th>\n",
              "      <td>Arkansas[edit]\\n</td>\n",
              "      <td>Fayetteville (University of Arkansas)[7]\\n</td>\n",
              "    </tr>\n",
              "  </tbody>\n",
              "</table>\n",
              "</div>\n",
              "      <button class=\"colab-df-convert\" onclick=\"convertToInteractive('df-c942d32f-1f0b-4104-be92-6b04bdc04ca1')\"\n",
              "              title=\"Convert this dataframe to an interactive table.\"\n",
              "              style=\"display:none;\">\n",
              "        \n",
              "  <svg xmlns=\"http://www.w3.org/2000/svg\" height=\"24px\"viewBox=\"0 0 24 24\"\n",
              "       width=\"24px\">\n",
              "    <path d=\"M0 0h24v24H0V0z\" fill=\"none\"/>\n",
              "    <path d=\"M18.56 5.44l.94 2.06.94-2.06 2.06-.94-2.06-.94-.94-2.06-.94 2.06-2.06.94zm-11 1L8.5 8.5l.94-2.06 2.06-.94-2.06-.94L8.5 2.5l-.94 2.06-2.06.94zm10 10l.94 2.06.94-2.06 2.06-.94-2.06-.94-.94-2.06-.94 2.06-2.06.94z\"/><path d=\"M17.41 7.96l-1.37-1.37c-.4-.4-.92-.59-1.43-.59-.52 0-1.04.2-1.43.59L10.3 9.45l-7.72 7.72c-.78.78-.78 2.05 0 2.83L4 21.41c.39.39.9.59 1.41.59.51 0 1.02-.2 1.41-.59l7.78-7.78 2.81-2.81c.8-.78.8-2.07 0-2.86zM5.41 20L4 18.59l7.72-7.72 1.47 1.35L5.41 20z\"/>\n",
              "  </svg>\n",
              "      </button>\n",
              "      \n",
              "  <style>\n",
              "    .colab-df-container {\n",
              "      display:flex;\n",
              "      flex-wrap:wrap;\n",
              "      gap: 12px;\n",
              "    }\n",
              "\n",
              "    .colab-df-convert {\n",
              "      background-color: #E8F0FE;\n",
              "      border: none;\n",
              "      border-radius: 50%;\n",
              "      cursor: pointer;\n",
              "      display: none;\n",
              "      fill: #1967D2;\n",
              "      height: 32px;\n",
              "      padding: 0 0 0 0;\n",
              "      width: 32px;\n",
              "    }\n",
              "\n",
              "    .colab-df-convert:hover {\n",
              "      background-color: #E2EBFA;\n",
              "      box-shadow: 0px 1px 2px rgba(60, 64, 67, 0.3), 0px 1px 3px 1px rgba(60, 64, 67, 0.15);\n",
              "      fill: #174EA6;\n",
              "    }\n",
              "\n",
              "    [theme=dark] .colab-df-convert {\n",
              "      background-color: #3B4455;\n",
              "      fill: #D2E3FC;\n",
              "    }\n",
              "\n",
              "    [theme=dark] .colab-df-convert:hover {\n",
              "      background-color: #434B5C;\n",
              "      box-shadow: 0px 1px 3px 1px rgba(0, 0, 0, 0.15);\n",
              "      filter: drop-shadow(0px 1px 2px rgba(0, 0, 0, 0.3));\n",
              "      fill: #FFFFFF;\n",
              "    }\n",
              "  </style>\n",
              "\n",
              "      <script>\n",
              "        const buttonEl =\n",
              "          document.querySelector('#df-c942d32f-1f0b-4104-be92-6b04bdc04ca1 button.colab-df-convert');\n",
              "        buttonEl.style.display =\n",
              "          google.colab.kernel.accessAllowed ? 'block' : 'none';\n",
              "\n",
              "        async function convertToInteractive(key) {\n",
              "          const element = document.querySelector('#df-c942d32f-1f0b-4104-be92-6b04bdc04ca1');\n",
              "          const dataTable =\n",
              "            await google.colab.kernel.invokeFunction('convertToInteractive',\n",
              "                                                     [key], {});\n",
              "          if (!dataTable) return;\n",
              "\n",
              "          const docLinkHtml = 'Like what you see? Visit the ' +\n",
              "            '<a target=\"_blank\" href=https://colab.research.google.com/notebooks/data_table.ipynb>data table notebook</a>'\n",
              "            + ' to learn more about interactive tables.';\n",
              "          element.innerHTML = '';\n",
              "          dataTable['output_type'] = 'display_data';\n",
              "          await google.colab.output.renderOutput(dataTable, element);\n",
              "          const docLink = document.createElement('div');\n",
              "          docLink.innerHTML = docLinkHtml;\n",
              "          element.appendChild(docLink);\n",
              "        }\n",
              "      </script>\n",
              "    </div>\n",
              "  </div>\n",
              "  "
            ],
            "text/plain": [
              "               State                                         RegionName\n",
              "0    Alabama[edit]\\n                    Auburn (Auburn University)[1]\\n\n",
              "1    Alabama[edit]\\n           Florence (University of North Alabama)\\n\n",
              "2    Alabama[edit]\\n  Jacksonville (Jacksonville State University)[2]\\n\n",
              "3    Alabama[edit]\\n       Livingston (University of West Alabama)[2]\\n\n",
              "4    Alabama[edit]\\n         Montevallo (University of Montevallo)[2]\\n\n",
              "5    Alabama[edit]\\n                        Troy (Troy University)[2]\\n\n",
              "6    Alabama[edit]\\n  Tuscaloosa (University of Alabama, Stillman Co...\n",
              "7    Alabama[edit]\\n                Tuskegee (Tuskegee University)[5]\\n\n",
              "8     Alaska[edit]\\n    Fairbanks (University of Alaska Fairbanks)[2]\\n\n",
              "9    Arizona[edit]\\n       Flagstaff (Northern Arizona University)[6]\\n\n",
              "10   Arizona[edit]\\n                 Tempe (Arizona State University)\\n\n",
              "11   Arizona[edit]\\n                   Tucson (University of Arizona)\\n\n",
              "12  Arkansas[edit]\\n  Arkadelphia (Henderson State University, Ouach...\n",
              "13  Arkansas[edit]\\n  Conway (Central Baptist College, Hendrix Colle...\n",
              "14  Arkansas[edit]\\n         Fayetteville (University of Arkansas)[7]\\n"
            ]
          },
          "metadata": {},
          "execution_count": 43
        }
      ]
    },
    {
      "cell_type": "code",
      "source": [
        "def get_citystate(item):\n",
        "  if '(' in item:\n",
        "      return item[:item.find('(')]\n",
        "  elif '[' in item:\n",
        "    return item[:item.find('[')]\n",
        "  else:\n",
        "      return item\n"
      ],
      "metadata": {
        "id": "FtQ5jeeUZhME"
      },
      "execution_count": null,
      "outputs": []
    },
    {
      "cell_type": "code",
      "source": [
        "df_kota = df_kota.applymap(get_citystate)"
      ],
      "metadata": {
        "id": "534oM9wXbR3P"
      },
      "execution_count": null,
      "outputs": []
    },
    {
      "cell_type": "code",
      "source": [
        "df_kota.head"
      ],
      "metadata": {
        "colab": {
          "base_uri": "https://localhost:8080/"
        },
        "id": "M5Cw47tfbbmo",
        "outputId": "bdcd698f-4030-4b3e-8ef4-42030b34d1ac"
      },
      "execution_count": null,
      "outputs": [
        {
          "output_type": "execute_result",
          "data": {
            "text/plain": [
              "<bound method NDFrame.head of          State      RegionName\n",
              "0      Alabama         Auburn \n",
              "1      Alabama       Florence \n",
              "2      Alabama   Jacksonville \n",
              "3      Alabama     Livingston \n",
              "4      Alabama     Montevallo \n",
              "..         ...             ...\n",
              "512  Wisconsin    River Falls \n",
              "513  Wisconsin  Stevens Point \n",
              "514  Wisconsin       Waukesha \n",
              "515  Wisconsin     Whitewater \n",
              "516    Wyoming        Laramie \n",
              "\n",
              "[517 rows x 2 columns]>"
            ]
          },
          "metadata": {},
          "execution_count": 47
        }
      ]
    },
    {
      "cell_type": "code",
      "source": [
        ""
      ],
      "metadata": {
        "id": "jv-QtghSbgq_"
      },
      "execution_count": null,
      "outputs": []
    }
  ]
}